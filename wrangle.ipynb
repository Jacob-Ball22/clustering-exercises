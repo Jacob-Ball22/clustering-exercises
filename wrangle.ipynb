{
 "cells": [
  {
   "cell_type": "code",
   "execution_count": 1,
   "id": "92c22d37-4016-4e57-af74-f69e43b52732",
   "metadata": {
    "tags": []
   },
   "outputs": [],
   "source": [
    "#Imports\n",
    "import warnings\n",
    "warnings.filterwarnings(\"ignore\")\n",
    "\n",
    "# Wrangling\n",
    "import pandas as pd\n",
    "import numpy as np\n",
    "from sklearn.model_selection import train_test_split\n",
    "\n",
    "# Exploring\n",
    "import scipy.stats as stats\n",
    "from sklearn.preprocessing import StandardScaler\n",
    "\n",
    "# Visualizing\n",
    "%matplotlib inline\n",
    "import matplotlib.pyplot as plt\n",
    "import seaborn as sns\n",
    "\n",
    "# default pandas decimal number display format\n",
    "pd.options.display.float_format = '{:20,.2f}'.format\n",
    "\n",
    "import acquire\n",
    "import summarize\n",
    "import prepare"
   ]
  },
  {
   "cell_type": "markdown",
   "id": "c05bee4f-1dc5-4246-858c-7767183fd4d8",
   "metadata": {
    "tags": []
   },
   "source": [
    "### Acquire and Summarize"
   ]
  },
  {
   "cell_type": "code",
   "execution_count": 2,
   "id": "89c17423-6146-4264-a765-848ca6c51bc0",
   "metadata": {
    "tags": []
   },
   "outputs": [
    {
     "name": "stdout",
     "output_type": "stream",
     "text": [
      "this file exists, reading from csv\n"
     ]
    },
    {
     "data": {
      "text/html": [
       "<div>\n",
       "<style scoped>\n",
       "    .dataframe tbody tr th:only-of-type {\n",
       "        vertical-align: middle;\n",
       "    }\n",
       "\n",
       "    .dataframe tbody tr th {\n",
       "        vertical-align: top;\n",
       "    }\n",
       "\n",
       "    .dataframe thead th {\n",
       "        text-align: right;\n",
       "    }\n",
       "</style>\n",
       "<table border=\"1\" class=\"dataframe\">\n",
       "  <thead>\n",
       "    <tr style=\"text-align: right;\">\n",
       "      <th></th>\n",
       "      <th>Gender</th>\n",
       "      <th>Age</th>\n",
       "      <th>Annual Income (k$)</th>\n",
       "      <th>Spending Score (1-100)</th>\n",
       "    </tr>\n",
       "    <tr>\n",
       "      <th>CustomerID</th>\n",
       "      <th></th>\n",
       "      <th></th>\n",
       "      <th></th>\n",
       "      <th></th>\n",
       "    </tr>\n",
       "  </thead>\n",
       "  <tbody>\n",
       "    <tr>\n",
       "      <th>1</th>\n",
       "      <td>Male</td>\n",
       "      <td>19</td>\n",
       "      <td>15</td>\n",
       "      <td>39</td>\n",
       "    </tr>\n",
       "    <tr>\n",
       "      <th>2</th>\n",
       "      <td>Male</td>\n",
       "      <td>21</td>\n",
       "      <td>15</td>\n",
       "      <td>81</td>\n",
       "    </tr>\n",
       "    <tr>\n",
       "      <th>3</th>\n",
       "      <td>Female</td>\n",
       "      <td>20</td>\n",
       "      <td>16</td>\n",
       "      <td>6</td>\n",
       "    </tr>\n",
       "    <tr>\n",
       "      <th>4</th>\n",
       "      <td>Female</td>\n",
       "      <td>23</td>\n",
       "      <td>16</td>\n",
       "      <td>77</td>\n",
       "    </tr>\n",
       "    <tr>\n",
       "      <th>5</th>\n",
       "      <td>Female</td>\n",
       "      <td>31</td>\n",
       "      <td>17</td>\n",
       "      <td>40</td>\n",
       "    </tr>\n",
       "  </tbody>\n",
       "</table>\n",
       "</div>"
      ],
      "text/plain": [
       "            Gender  Age  Annual Income (k$)  Spending Score (1-100)\n",
       "CustomerID                                                         \n",
       "1             Male   19                  15                      39\n",
       "2             Male   21                  15                      81\n",
       "3           Female   20                  16                       6\n",
       "4           Female   23                  16                      77\n",
       "5           Female   31                  17                      40"
      ]
     },
     "execution_count": 2,
     "metadata": {},
     "output_type": "execute_result"
    }
   ],
   "source": [
    "df = acquire.get_mall_data()\n",
    "df.head()"
   ]
  },
  {
   "cell_type": "code",
   "execution_count": 3,
   "id": "815fce7b-0329-41e2-9088-42b1933bb750",
   "metadata": {
    "tags": []
   },
   "outputs": [
    {
     "name": "stdout",
     "output_type": "stream",
     "text": [
      "Info:\n",
      "<class 'pandas.core.frame.DataFrame'>\n",
      "Index: 200 entries, 1 to 200\n",
      "Data columns (total 4 columns):\n",
      " #   Column                  Non-Null Count  Dtype \n",
      "---  ------                  --------------  ----- \n",
      " 0   Gender                  200 non-null    object\n",
      " 1   Age                     200 non-null    int64 \n",
      " 2   Annual Income (k$)      200 non-null    int64 \n",
      " 3   Spending Score (1-100)  200 non-null    int64 \n",
      "dtypes: int64(3), object(1)\n",
      "memory usage: 7.8+ KB\n",
      "None\n",
      "\n",
      "Describe:\n",
      "                       Age   Annual Income (k$)  Spending Score (1-100)\n",
      "count               200.00               200.00                  200.00\n",
      "mean                 38.85                60.56                   50.20\n",
      "std                  13.97                26.26                   25.82\n",
      "min                  18.00                15.00                    1.00\n",
      "25%                  28.75                41.50                   34.75\n",
      "50%                  36.00                61.50                   50.00\n",
      "75%                  49.00                78.00                   73.00\n",
      "max                  70.00               137.00                   99.00\n",
      "\n",
      "Gender Counts:\n",
      "Gender\n",
      "Female    112\n",
      "Male       88\n",
      "Name: count, dtype: int64\n"
     ]
    }
   ],
   "source": [
    "print(summarize.df_summary(df))"
   ]
  },
  {
   "cell_type": "code",
   "execution_count": 4,
   "id": "6f93f29b-7113-4547-b9c4-d6dbb0f5ae89",
   "metadata": {
    "tags": []
   },
   "outputs": [],
   "source": [
    "df = prepare.data_prep(\n",
    "    df,\n",
    "    cols_to_remove=[],\n",
    "    prop_required_column=.6,\n",
    "    prop_required_row=.75)"
   ]
  },
  {
   "cell_type": "code",
   "execution_count": 5,
   "id": "f01a06bc-0899-475d-b965-506eb8e0ed33",
   "metadata": {
    "tags": []
   },
   "outputs": [
    {
     "data": {
      "text/plain": [
       "array([[<Axes: title={'center': 'Age'}>,\n",
       "        <Axes: title={'center': 'Annual Income (k$)'}>],\n",
       "       [<Axes: title={'center': 'Spending Score (1-100)'}>, <Axes: >]],\n",
       "      dtype=object)"
      ]
     },
     "execution_count": 5,
     "metadata": {},
     "output_type": "execute_result"
    },
    {
     "data": {
      "image/png": "[encoded data removed]",
      "text/plain": [
       "<Figure size 2400x1000 with 4 Axes>"
      ]
     },
     "metadata": {},
     "output_type": "display_data"
    }
   ],
   "source": [
    "df.hist(figsize=(24, 10), bins=20)"
   ]
  },
  {
   "cell_type": "code",
   "execution_count": 6,
   "id": "b8c3f47f-8da2-411c-a156-a7d576fcf355",
   "metadata": {
    "tags": []
   },
   "outputs": [
    {
     "data": {
      "text/html": [
       "<div>\n",
       "<style scoped>\n",
       "    .dataframe tbody tr th:only-of-type {\n",
       "        vertical-align: middle;\n",
       "    }\n",
       "\n",
       "    .dataframe tbody tr th {\n",
       "        vertical-align: top;\n",
       "    }\n",
       "\n",
       "    .dataframe thead th {\n",
       "        text-align: right;\n",
       "    }\n",
       "</style>\n",
       "<table border=\"1\" class=\"dataframe\">\n",
       "  <thead>\n",
       "    <tr style=\"text-align: right;\">\n",
       "      <th></th>\n",
       "      <th>Gender</th>\n",
       "      <th>Age</th>\n",
       "      <th>Annual Income (k$)</th>\n",
       "      <th>Spending Score (1-100)</th>\n",
       "      <th>Age_outliers</th>\n",
       "      <th>Annual Income (k$)_outliers</th>\n",
       "      <th>Spending Score (1-100)_outliers</th>\n",
       "    </tr>\n",
       "    <tr>\n",
       "      <th>CustomerID</th>\n",
       "      <th></th>\n",
       "      <th></th>\n",
       "      <th></th>\n",
       "      <th></th>\n",
       "      <th></th>\n",
       "      <th></th>\n",
       "      <th></th>\n",
       "    </tr>\n",
       "  </thead>\n",
       "  <tbody>\n",
       "    <tr>\n",
       "      <th>1</th>\n",
       "      <td>Male</td>\n",
       "      <td>19</td>\n",
       "      <td>15</td>\n",
       "      <td>39</td>\n",
       "      <td>0</td>\n",
       "      <td>0.00</td>\n",
       "      <td>0</td>\n",
       "    </tr>\n",
       "    <tr>\n",
       "      <th>2</th>\n",
       "      <td>Male</td>\n",
       "      <td>21</td>\n",
       "      <td>15</td>\n",
       "      <td>81</td>\n",
       "      <td>0</td>\n",
       "      <td>0.00</td>\n",
       "      <td>0</td>\n",
       "    </tr>\n",
       "    <tr>\n",
       "      <th>3</th>\n",
       "      <td>Female</td>\n",
       "      <td>20</td>\n",
       "      <td>16</td>\n",
       "      <td>6</td>\n",
       "      <td>0</td>\n",
       "      <td>0.00</td>\n",
       "      <td>0</td>\n",
       "    </tr>\n",
       "    <tr>\n",
       "      <th>4</th>\n",
       "      <td>Female</td>\n",
       "      <td>23</td>\n",
       "      <td>16</td>\n",
       "      <td>77</td>\n",
       "      <td>0</td>\n",
       "      <td>0.00</td>\n",
       "      <td>0</td>\n",
       "    </tr>\n",
       "    <tr>\n",
       "      <th>5</th>\n",
       "      <td>Female</td>\n",
       "      <td>31</td>\n",
       "      <td>17</td>\n",
       "      <td>40</td>\n",
       "      <td>0</td>\n",
       "      <td>0.00</td>\n",
       "      <td>0</td>\n",
       "    </tr>\n",
       "  </tbody>\n",
       "</table>\n",
       "</div>"
      ],
      "text/plain": [
       "            Gender  Age  Annual Income (k$)  Spending Score (1-100)  \\\n",
       "CustomerID                                                            \n",
       "1             Male   19                  15                      39   \n",
       "2             Male   21                  15                      81   \n",
       "3           Female   20                  16                       6   \n",
       "4           Female   23                  16                      77   \n",
       "5           Female   31                  17                      40   \n",
       "\n",
       "            Age_outliers  Annual Income (k$)_outliers  \\\n",
       "CustomerID                                              \n",
       "1                      0                         0.00   \n",
       "2                      0                         0.00   \n",
       "3                      0                         0.00   \n",
       "4                      0                         0.00   \n",
       "5                      0                         0.00   \n",
       "\n",
       "            Spending Score (1-100)_outliers  \n",
       "CustomerID                                   \n",
       "1                                         0  \n",
       "2                                         0  \n",
       "3                                         0  \n",
       "4                                         0  \n",
       "5                                         0  "
      ]
     },
     "execution_count": 6,
     "metadata": {},
     "output_type": "execute_result"
    }
   ],
   "source": [
    "def get_upper_outliers(s, k):\n",
    "    '''\n",
    "    Given a series and a cutoff value, k, returns the upper outliers for the\n",
    "    series.\n",
    "\n",
    "    The values returned will be either 0 (if the point is not an outlier), or a\n",
    "    number that indicates how far away from the upper bound the observation is.\n",
    "    '''\n",
    "    q1, q3 = s.quantile([.25, .75])\n",
    "    iqr = q3 - q1\n",
    "    upper_bound = q3 + k * iqr\n",
    "    return s.apply(lambda x: max([x - upper_bound, 0]))\n",
    "\n",
    "def add_upper_outlier_columns(df, k):\n",
    "    '''\n",
    "    Add a column with the suffix _outliers for all the numeric columns\n",
    "    in the given dataframe.\n",
    "    '''\n",
    "    # outlier_cols = {col + '_outliers': get_upper_outliers(df[col], k)\n",
    "    #                 for col in df.select_dtypes('number')}\n",
    "    # return df.assign(**outlier_cols)\n",
    "\n",
    "    for col in df.select_dtypes('number'):\n",
    "        df[col + '_outliers'] = get_upper_outliers(df[col], k)\n",
    "\n",
    "    return df\n",
    "\n",
    "add_upper_outlier_columns(df, k=1.5)\n",
    "\n",
    "df.head()"
   ]
  },
  {
   "cell_type": "code",
   "execution_count": 7,
   "id": "b3c8d08d-a133-424b-a6dc-9ec63ff4d466",
   "metadata": {
    "tags": []
   },
   "outputs": [
    {
     "name": "stdout",
     "output_type": "stream",
     "text": [
      "~~~\n",
      "Age_outliers\n",
      "count                   0.00\n",
      "mean                     NaN\n",
      "std                      NaN\n",
      "min                      NaN\n",
      "25%                      NaN\n",
      "50%                      NaN\n",
      "75%                      NaN\n",
      "max                      NaN\n",
      "Name: Age_outliers, dtype: float64\n",
      "~~~\n",
      "Annual Income (k$)_outliers\n",
      "count                   2.00\n",
      "mean                    4.25\n",
      "std                     0.00\n",
      "min                     4.25\n",
      "25%                     4.25\n",
      "50%                     4.25\n",
      "75%                     4.25\n",
      "max                     4.25\n",
      "Name: Annual Income (k$)_outliers, dtype: float64\n",
      "~~~\n",
      "Spending Score (1-100)_outliers\n",
      "count                   0.00\n",
      "mean                     NaN\n",
      "std                      NaN\n",
      "min                      NaN\n",
      "25%                      NaN\n",
      "50%                      NaN\n",
      "75%                      NaN\n",
      "max                      NaN\n",
      "Name: Spending Score (1-100)_outliers, dtype: float64\n"
     ]
    }
   ],
   "source": [
    "#This shows the outliers in the data\n",
    "outlier_cols = [col for col in df if col.endswith('_outliers')]\n",
    "for col in outlier_cols:\n",
    "    print('~~~\\n' + col)\n",
    "    data = df[col][df[col] > 0]\n",
    "    print(data.describe())"
   ]
  },
  {
   "cell_type": "markdown",
   "id": "998c0947-21db-47d5-b088-e9067e596136",
   "metadata": {
    "tags": []
   },
   "source": [
    "\n",
    "### Plots to see the data"
   ]
  },
  {
   "cell_type": "code",
   "execution_count": 8,
   "id": "1b1a5046-4e71-4bf1-acfa-79d22aba68ff",
   "metadata": {
    "tags": []
   },
   "outputs": [
    {
     "data": {
      "image/png": "[encoded data removed]",
      "text/plain": [
       "<Figure size 700.25x300 with 1 Axes>"
      ]
     },
     "metadata": {},
     "output_type": "display_data"
    }
   ],
   "source": [
    "palette = {'Male':'blue', 'Female':'orange'}\n",
    "gender = sns.FacetGrid(df, hue = 'Gender', aspect = 2, palette = palette)\n",
    "gender = gender.map(plt.hist, 'Spending Score (1-100)', bins = 20, alpha = 0.7)\n",
    "plt.title('Spending Score By Gender')\n",
    "gender.add_legend(title='Gender')\n",
    "plt.show()"
   ]
  },
  {
   "cell_type": "code",
   "execution_count": 9,
   "id": "9316e50f-8981-477d-aa23-b858b4148181",
   "metadata": {
    "tags": []
   },
   "outputs": [
    {
     "data": {
      "image/png": "[encoded data removed]",
      "text/plain": [
       "<Figure size 640x480 with 1 Axes>"
      ]
     },
     "metadata": {},
     "output_type": "display_data"
    }
   ],
   "source": [
    "plt.bar(df['Age'],df['Spending Score (1-100)'])\n",
    "plt.show()"
   ]
  },
  {
   "cell_type": "markdown",
   "id": "46f8c43a-21a9-42da-b0df-2a830d8afb29",
   "metadata": {
    "tags": []
   },
   "source": [
    "### Split Into Train, Validate, and Test"
   ]
  },
  {
   "cell_type": "code",
   "execution_count": 10,
   "id": "38ece003-c144-4133-9255-355de2a8ea1b",
   "metadata": {
    "tags": []
   },
   "outputs": [],
   "source": [
    "#Function to split the data\n",
    "def split_data(df):\n",
    "    \"\"\"\n",
    "    Recieves dataframe as 'df' and target variable to stratify as 'col'\n",
    "    First split does a 60% train and 40% validate\n",
    "    Second split uses the 40% validate to make 50% validate and 50% test\n",
    "    \"\"\"\n",
    "    #first split\n",
    "    train, validate_test = train_test_split(df, #send in initial df\n",
    "                train_size = 0.60, #size of the train df, and the test size will default to 1-train_size\n",
    "                random_state = 123, #set any number here for consistency\n",
    "                )\n",
    "    \n",
    "    #second split\n",
    "    validate, test = train_test_split(validate_test, #we are spliting the 40% df we just made\n",
    "                test_size = 0.50, #split 50/50\n",
    "                random_state = 123, #gotta send in a random seed\n",
    "                )\n",
    "    print(f'''\n",
    "Train Shape: {train.shape}\n",
    "Validate Shape: {validate.shape}\n",
    "Test Shape: {test.shape}\n",
    "    ''')\n",
    "    return train, validate, test"
   ]
  },
  {
   "cell_type": "code",
   "execution_count": 11,
   "id": "07cc7464-8332-4724-8be7-700f775f6554",
   "metadata": {
    "tags": []
   },
   "outputs": [
    {
     "name": "stdout",
     "output_type": "stream",
     "text": [
      "\n",
      "Train Shape: (120, 7)\n",
      "Validate Shape: (40, 7)\n",
      "Test Shape: (40, 7)\n",
      "    \n"
     ]
    }
   ],
   "source": [
    "#Get the split data\n",
    "train, validate, test = split_data(df)"
   ]
  },
  {
   "cell_type": "markdown",
   "id": "0b89a011-8a45-4772-8642-045d690821f0",
   "metadata": {
    "tags": []
   },
   "source": [
    "### Encode Categorical Columns"
   ]
  },
  {
   "cell_type": "code",
   "execution_count": 12,
   "id": "1455e10d-3a9e-41f4-99fd-ae1f9a2c258b",
   "metadata": {
    "tags": []
   },
   "outputs": [
    {
     "data": {
      "text/html": [
       "<div>\n",
       "<style scoped>\n",
       "    .dataframe tbody tr th:only-of-type {\n",
       "        vertical-align: middle;\n",
       "    }\n",
       "\n",
       "    .dataframe tbody tr th {\n",
       "        vertical-align: top;\n",
       "    }\n",
       "\n",
       "    .dataframe thead th {\n",
       "        text-align: right;\n",
       "    }\n",
       "</style>\n",
       "<table border=\"1\" class=\"dataframe\">\n",
       "  <thead>\n",
       "    <tr style=\"text-align: right;\">\n",
       "      <th></th>\n",
       "      <th>Age</th>\n",
       "      <th>Annual Income (k$)</th>\n",
       "      <th>Spending Score (1-100)</th>\n",
       "      <th>Age_outliers</th>\n",
       "      <th>Annual Income (k$)_outliers</th>\n",
       "      <th>Spending Score (1-100)_outliers</th>\n",
       "      <th>Gender_Female</th>\n",
       "      <th>Gender_Male</th>\n",
       "    </tr>\n",
       "    <tr>\n",
       "      <th>CustomerID</th>\n",
       "      <th></th>\n",
       "      <th></th>\n",
       "      <th></th>\n",
       "      <th></th>\n",
       "      <th></th>\n",
       "      <th></th>\n",
       "      <th></th>\n",
       "      <th></th>\n",
       "    </tr>\n",
       "  </thead>\n",
       "  <tbody>\n",
       "    <tr>\n",
       "      <th>1</th>\n",
       "      <td>19</td>\n",
       "      <td>15</td>\n",
       "      <td>39</td>\n",
       "      <td>0</td>\n",
       "      <td>0.00</td>\n",
       "      <td>0</td>\n",
       "      <td>0</td>\n",
       "      <td>1</td>\n",
       "    </tr>\n",
       "    <tr>\n",
       "      <th>2</th>\n",
       "      <td>21</td>\n",
       "      <td>15</td>\n",
       "      <td>81</td>\n",
       "      <td>0</td>\n",
       "      <td>0.00</td>\n",
       "      <td>0</td>\n",
       "      <td>0</td>\n",
       "      <td>1</td>\n",
       "    </tr>\n",
       "    <tr>\n",
       "      <th>3</th>\n",
       "      <td>20</td>\n",
       "      <td>16</td>\n",
       "      <td>6</td>\n",
       "      <td>0</td>\n",
       "      <td>0.00</td>\n",
       "      <td>0</td>\n",
       "      <td>1</td>\n",
       "      <td>0</td>\n",
       "    </tr>\n",
       "    <tr>\n",
       "      <th>4</th>\n",
       "      <td>23</td>\n",
       "      <td>16</td>\n",
       "      <td>77</td>\n",
       "      <td>0</td>\n",
       "      <td>0.00</td>\n",
       "      <td>0</td>\n",
       "      <td>1</td>\n",
       "      <td>0</td>\n",
       "    </tr>\n",
       "    <tr>\n",
       "      <th>5</th>\n",
       "      <td>31</td>\n",
       "      <td>17</td>\n",
       "      <td>40</td>\n",
       "      <td>0</td>\n",
       "      <td>0.00</td>\n",
       "      <td>0</td>\n",
       "      <td>1</td>\n",
       "      <td>0</td>\n",
       "    </tr>\n",
       "  </tbody>\n",
       "</table>\n",
       "</div>"
      ],
      "text/plain": [
       "            Age  Annual Income (k$)  Spending Score (1-100)  Age_outliers  \\\n",
       "CustomerID                                                                  \n",
       "1            19                  15                      39             0   \n",
       "2            21                  15                      81             0   \n",
       "3            20                  16                       6             0   \n",
       "4            23                  16                      77             0   \n",
       "5            31                  17                      40             0   \n",
       "\n",
       "            Annual Income (k$)_outliers  Spending Score (1-100)_outliers  \\\n",
       "CustomerID                                                                 \n",
       "1                                  0.00                                0   \n",
       "2                                  0.00                                0   \n",
       "3                                  0.00                                0   \n",
       "4                                  0.00                                0   \n",
       "5                                  0.00                                0   \n",
       "\n",
       "            Gender_Female  Gender_Male  \n",
       "CustomerID                              \n",
       "1                       0            1  \n",
       "2                       0            1  \n",
       "3                       1            0  \n",
       "4                       1            0  \n",
       "5                       1            0  "
      ]
     },
     "execution_count": 12,
     "metadata": {},
     "output_type": "execute_result"
    }
   ],
   "source": [
    "df = pd.get_dummies(df, columns = ['Gender'], dtype=int)\n",
    "df.head()"
   ]
  },
  {
   "cell_type": "markdown",
   "id": "6c3f5a2b-51ab-42af-8426-a5f7b6361832",
   "metadata": {},
   "source": [
    "### Scaling"
   ]
  },
  {
   "cell_type": "code",
   "execution_count": 13,
   "id": "7136db8d-1868-4465-91bf-23d946c984b3",
   "metadata": {
    "tags": []
   },
   "outputs": [],
   "source": [
    "columns = ['Age_outliers','Annual Income (k$)_outliers','Spending Score (1-100)_outliers']\n",
    "df.drop(columns, inplace=True, axis=1)"
   ]
  },
  {
   "cell_type": "code",
   "execution_count": 14,
   "id": "ee0e328b-cb56-4a7f-948c-7c889a9943eb",
   "metadata": {
    "tags": []
   },
   "outputs": [
    {
     "data": {
      "text/html": [
       "<div>\n",
       "<style scoped>\n",
       "    .dataframe tbody tr th:only-of-type {\n",
       "        vertical-align: middle;\n",
       "    }\n",
       "\n",
       "    .dataframe tbody tr th {\n",
       "        vertical-align: top;\n",
       "    }\n",
       "\n",
       "    .dataframe thead th {\n",
       "        text-align: right;\n",
       "    }\n",
       "</style>\n",
       "<table border=\"1\" class=\"dataframe\">\n",
       "  <thead>\n",
       "    <tr style=\"text-align: right;\">\n",
       "      <th></th>\n",
       "      <th>Age</th>\n",
       "      <th>Annual Income (k$)</th>\n",
       "      <th>Spending Score (1-100)</th>\n",
       "      <th>Gender_Female</th>\n",
       "      <th>Gender_Male</th>\n",
       "    </tr>\n",
       "    <tr>\n",
       "      <th>CustomerID</th>\n",
       "      <th></th>\n",
       "      <th></th>\n",
       "      <th></th>\n",
       "      <th></th>\n",
       "      <th></th>\n",
       "    </tr>\n",
       "  </thead>\n",
       "  <tbody>\n",
       "    <tr>\n",
       "      <th>1</th>\n",
       "      <td>19</td>\n",
       "      <td>15</td>\n",
       "      <td>39</td>\n",
       "      <td>0</td>\n",
       "      <td>1</td>\n",
       "    </tr>\n",
       "    <tr>\n",
       "      <th>2</th>\n",
       "      <td>21</td>\n",
       "      <td>15</td>\n",
       "      <td>81</td>\n",
       "      <td>0</td>\n",
       "      <td>1</td>\n",
       "    </tr>\n",
       "    <tr>\n",
       "      <th>3</th>\n",
       "      <td>20</td>\n",
       "      <td>16</td>\n",
       "      <td>6</td>\n",
       "      <td>1</td>\n",
       "      <td>0</td>\n",
       "    </tr>\n",
       "    <tr>\n",
       "      <th>4</th>\n",
       "      <td>23</td>\n",
       "      <td>16</td>\n",
       "      <td>77</td>\n",
       "      <td>1</td>\n",
       "      <td>0</td>\n",
       "    </tr>\n",
       "    <tr>\n",
       "      <th>5</th>\n",
       "      <td>31</td>\n",
       "      <td>17</td>\n",
       "      <td>40</td>\n",
       "      <td>1</td>\n",
       "      <td>0</td>\n",
       "    </tr>\n",
       "  </tbody>\n",
       "</table>\n",
       "</div>"
      ],
      "text/plain": [
       "            Age  Annual Income (k$)  Spending Score (1-100)  Gender_Female  \\\n",
       "CustomerID                                                                   \n",
       "1            19                  15                      39              0   \n",
       "2            21                  15                      81              0   \n",
       "3            20                  16                       6              1   \n",
       "4            23                  16                      77              1   \n",
       "5            31                  17                      40              1   \n",
       "\n",
       "            Gender_Male  \n",
       "CustomerID               \n",
       "1                     1  \n",
       "2                     1  \n",
       "3                     0  \n",
       "4                     0  \n",
       "5                     0  "
      ]
     },
     "execution_count": 14,
     "metadata": {},
     "output_type": "execute_result"
    }
   ],
   "source": [
    "df.head()"
   ]
  },
  {
   "cell_type": "code",
   "execution_count": 15,
   "id": "a3dddc04-3d1a-401b-af72-ec26e4c090a9",
   "metadata": {
    "tags": []
   },
   "outputs": [
    {
     "data": {
      "text/plain": [
       "<Axes: xlabel='Gender_Male'>"
      ]
     },
     "execution_count": 15,
     "metadata": {},
     "output_type": "execute_result"
    },
    {
     "data": {
      "image/png": "[encoded data removed]",
      "text/plain": [
       "<Figure size 1100x600 with 1 Axes>"
      ]
     },
     "metadata": {},
     "output_type": "display_data"
    }
   ],
   "source": [
    "#Without Scaler (0 = Female, 1 = Male)\n",
    "df[['Gender_Male', 'Age', 'Annual Income (k$)', 'Spending Score (1-100)']].groupby(\n",
    "    'Gender_Male').mean().plot.bar(\n",
    "    figsize=(11, 6), ec='black', width=.9)"
   ]
  },
  {
   "cell_type": "code",
   "execution_count": 16,
   "id": "029bd289-e3d3-4857-85d4-53ee1facacb3",
   "metadata": {
    "tags": []
   },
   "outputs": [
    {
     "data": {
      "text/plain": [
       "<Axes: xlabel='Gender_Male'>"
      ]
     },
     "execution_count": 16,
     "metadata": {},
     "output_type": "execute_result"
    },
    {
     "data": {
      "image/png": "[encoded data removed]",
      "text/plain": [
       "<Figure size 1100x600 with 1 Axes>"
      ]
     },
     "metadata": {},
     "output_type": "display_data"
    }
   ],
   "source": [
    "#With Scaler (0 = Female, 1 = Male)\n",
    "cols = ['Age', 'Annual Income (k$)', 'Spending Score (1-100)']\n",
    "scaler = StandardScaler()\n",
    "df[cols] = scaler.fit_transform(df[cols])\n",
    "df[['Gender_Male', 'Age', 'Annual Income (k$)', 'Spending Score (1-100)']].groupby('Gender_Male').mean().plot.bar(figsize=(11, 6), ec='black', width=.9)"
   ]
  },
  {
   "cell_type": "code",
   "execution_count": null,
   "id": "1273956d-6e6e-48af-bb3a-df92608eb936",
   "metadata": {},
   "outputs": [],
   "source": []
  }
 ],
 "metadata": {
  "kernelspec": {
   "display_name": "Python 3 (ipykernel)",
   "language": "python",
   "name": "python3"
  },
  "language_info": {
   "codemirror_mode": {
    "name": "ipython",
    "version": 3
   },
   "file_extension": ".py",
   "mimetype": "text/x-python",
   "name": "python",
   "nbconvert_exporter": "python",
   "pygments_lexer": "ipython3",
   "version": "3.11.5"
  }
 },
 "nbformat": 4,
 "nbformat_minor": 5
}
