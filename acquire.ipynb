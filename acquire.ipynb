{
 "cells": [
  {
   "cell_type": "code",
   "execution_count": 24,
   "id": "0bf401d8-d3e4-4011-ba47-0c7cdc321cd2",
   "metadata": {
    "tags": []
   },
   "outputs": [],
   "source": [
    "#Imports\n",
    "import pandas as pd\n",
    "import os"
   ]
  },
  {
   "cell_type": "code",
   "execution_count": 25,
   "id": "8691a590-8655-4435-b1da-e9ef2d9d7c4e",
   "metadata": {
    "tags": []
   },
   "outputs": [],
   "source": [
    "#Function that gets the mall_customers data from the csv file and returns it as a dataframe\n",
    "def get_mall_data():\n",
    "    filename = 'Mall_Customers.csv'\n",
    "    if os.path.exists(filename):\n",
    "        print('this file exists, reading from csv')\n",
    "        #read from csv\n",
    "        df = pd.read_csv(filename, index_col=0)\n",
    "        df = df.rename(columns={\"Genre\": \"Gender\"})\n",
    "        return df"
   ]
  },
  {
   "cell_type": "code",
   "execution_count": null,
   "id": "fcb0b396-2a9d-4977-86d9-f75021c9e723",
   "metadata": {},
   "outputs": [],
   "source": []
  }
 ],
 "metadata": {
  "kernelspec": {
   "display_name": "Python 3 (ipykernel)",
   "language": "python",
   "name": "python3"
  },
  "language_info": {
   "codemirror_mode": {
    "name": "ipython",
    "version": 3
   },
   "file_extension": ".py",
   "mimetype": "text/x-python",
   "name": "python",
   "nbconvert_exporter": "python",
   "pygments_lexer": "ipython3",
   "version": "3.11.5"
  }
 },
 "nbformat": 4,
 "nbformat_minor": 5
}
