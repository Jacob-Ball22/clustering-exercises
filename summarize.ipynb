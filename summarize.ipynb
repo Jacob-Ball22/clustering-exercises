{
 "cells": [
  {
   "cell_type": "code",
   "execution_count": null,
   "id": "9736479e-69f2-4ca6-903e-8330e344d8ba",
   "metadata": {},
   "outputs": [],
   "source": [
    "#df_summary function gives a look into the data we will be using\n",
    "def df_summary(df):\n",
    "    #Shows the columns and the amount of non-null data in them\n",
    "    print(\"Info:\")\n",
    "    print(df.info(show_counts=True))\n",
    "    #Gives statistical descriptions for the data\n",
    "    print(\"\\nDescribe:\")\n",
    "    print(df.describe())\n",
    "    #Gives a sorted count of the amount that is in each gender for the data\n",
    "    print(\"\\nGender Counts:\")\n",
    "    return df['Gender'].value_counts(sort=True)"
   ]
  }
 ],
 "metadata": {
  "kernelspec": {
   "display_name": "Python 3 (ipykernel)",
   "language": "python",
   "name": "python3"
  },
  "language_info": {
   "codemirror_mode": {
    "name": "ipython",
    "version": 3
   },
   "file_extension": ".py",
   "mimetype": "text/x-python",
   "name": "python",
   "nbconvert_exporter": "python",
   "pygments_lexer": "ipython3",
   "version": "3.11.5"
  }
 },
 "nbformat": 4,
 "nbformat_minor": 5
}
